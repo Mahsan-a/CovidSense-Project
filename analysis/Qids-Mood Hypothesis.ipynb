{
 "cells": [
  {
   "cell_type": "code",
   "execution_count": 1,
   "metadata": {},
   "outputs": [
    {
     "data": {
      "text/plain": [
       "[(0.4, 0.7607843137254902, 0.6470588235294118),\n",
       " (0.9882352941176471, 0.5529411764705883, 0.3843137254901961),\n",
       " (0.5529411764705883, 0.6274509803921569, 0.796078431372549),\n",
       " (0.9058823529411765, 0.5411764705882353, 0.7647058823529411),\n",
       " (0.6509803921568628, 0.8470588235294118, 0.32941176470588235),\n",
       " (1.0, 0.8509803921568627, 0.1843137254901961),\n",
       " (0.8980392156862745, 0.7686274509803922, 0.5803921568627451),\n",
       " (0.7019607843137254, 0.7019607843137254, 0.7019607843137254)]"
      ]
     },
     "execution_count": 1,
     "metadata": {},
     "output_type": "execute_result"
    }
   ],
   "source": [
    "# Imports\n",
    "\n",
    "# Usual imports\n",
    "import os\n",
    "import sys\n",
    "import time\n",
    "import datetime\n",
    "import json\n",
    "import csv\n",
    "import glob\n",
    "import pprint\n",
    "import importlib\n",
    "from tqdm import tqdm\n",
    "from collections import Counter\n",
    "\n",
    "import quandl\n",
    "import pandas as pd\n",
    "\n",
    "pd.set_option('display.max_rows', None)\n",
    "pd.set_option('display.max_columns', None)\n",
    "pd.set_option('display.width', None)\n",
    "pd.set_option('display.max_colwidth', None)\n",
    "\n",
    "import itertools\n",
    "import time\n",
    "import numpy as np\n",
    "import seaborn as sns\n",
    "import statsmodels.api as sm\n",
    "import matplotlib.pyplot as plt\n",
    "from sklearn import linear_model\n",
    "from sklearn.metrics import mean_squared_error\n",
    "from scipy.stats import spearmanr\n",
    "\n",
    "%matplotlib inline\n",
    "plt.style.use('seaborn-talk')\n",
    "\n",
    "# Plotting\n",
    "import matplotlib.pyplot as plt\n",
    "from matplotlib import cm, style\n",
    "from matplotlib.ticker import FixedLocator\n",
    "from matplotlib.dates import DateFormatter\n",
    "\n",
    "import seaborn as sns\n",
    "from IPython.display import Image\n",
    "from lifelines import KaplanMeierFitter\n",
    "from lifelines import NelsonAalenFitter\n",
    "\n",
    "# For regression\n",
    "from sklearn import datasets, linear_model\n",
    "from sklearn.linear_model import LinearRegression\n",
    "import statsmodels.api as sm\n",
    "from scipy import stats\n",
    "\n",
    "# Custom modules\n",
    "sys.path.insert(0, '../')\n",
    "#import psychometry\n",
    "import parser\n",
    "import utils\n",
    "\n",
    "# Some edits to matplotlib\n",
    "# https://towardsdatascience.com/simple-ways-to-improve-your-matplotlib-b64eebccfd5\n",
    "# https://medium.com/@andykashyap/top-5-tricks-to-make-plots-look-better-9f6e687c1e08\n",
    "#plt.rcParams.update({'font.size': 20})\n",
    "style.use('seaborn-talk') #sets the size of the charts\n",
    "\n",
    "# This is the color of sh.rice.edu/covid-sense website background. It is NOT white\n",
    "bg_color = (0.96862745, 0.96862745, 0.96862745)\n",
    "\n",
    "# Convert a timestamp into time string\n",
    "d2s = lambda x : datetime.datetime.fromtimestamp(x/1000.0).strftime('%B %d')\n",
    "sns.color_palette(\"Set2\")\n"
   ]
  },
  {
   "cell_type": "code",
   "execution_count": 2,
   "metadata": {},
   "outputs": [
    {
     "name": "stdout",
     "output_type": "stream",
     "text": [
      "/Users/mahsanabbasi/Desktop/CE-EmaResponseAnalyzer-master-4/analysis\n",
      "18783\n"
     ]
    }
   ],
   "source": [
    "# Load database\n",
    "dbname = '../data/db_snapshot.json'\n",
    "import os\n",
    "cwd = os.getcwd()\n",
    "print(cwd)\n",
    "with open(dbname, 'rb') as readfile:\n",
    "    db = json.load(readfile)\n",
    "\n",
    "lens = np.array([len(db[key]['timestamps']) for key in db])\n",
    "print(lens.sum())"
   ]
  },
  {
   "cell_type": "code",
   "execution_count": 3,
   "metadata": {},
   "outputs": [
    {
     "name": "stdout",
     "output_type": "stream",
     "text": [
      "740\n"
     ]
    }
   ],
   "source": [
    "\n",
    "# Now we are ready to regress. Start by popping out only the last responded QIDS, and mood\n",
    "week_freq =  4\n",
    "epoch1 = 24*3600*(datetime.datetime(2020, 4, 1, 0, 0).timestamp()//(24*3600))*1000\n",
    "epoch2 = 24*3600*(datetime.datetime(2020, 12, 1, 0, 0).timestamp()//(24*3600))*1000\n",
    "\n",
    "\n",
    "const = 24*3600*1000*7*week_freq\n",
    "week_bins = np.arange(epoch1, epoch2 + const, const)\n",
    "nweeks = len(week_bins)\n",
    "\n",
    "valid_ids = [key for key in db if  #db[key]['healthcare_worker'] and\\\n",
    "            len(db[key]['QIDS']) > 0 and\\\n",
    "           # db[key]['country'] == 'United States of America' and\\\n",
    "           # db[key]['state'] != 'Puerto Rico' and\\\n",
    "            len(db[key]['A']) > 0 ]\n",
    "\n",
    "rdb = {key:db[key] for key in valid_ids}\n",
    "print(len(valid_ids)) # 3\n",
    "\n",
    "rdict = dict()\n",
    "\n",
    "rdict['gender'] = []\n",
    "rdict['age'] = []\n",
    "rdict['qids'] = []\n",
    "rdict['mood'] = []\n",
    "#rdict['camsr'] = []\n",
    "#rdict['neuroticism'] = []\n",
    "rdict['pre_physical'] = []\n",
    "rdict['pre_mental'] = []\n",
    "\n",
    "for key in valid_ids:\n",
    " #   qids_arr = rdb[key]['QIDS']\n",
    "    pre_mental_values = rdb[key]['pre_mental']\n",
    "    for val in pre_mental_values:\n",
    "        pre_mental =  (val=='none of the above')\n",
    "    #pre_mental = [val in pre_mental if and val is not 'none of the above' and val is not '(empty)']\n",
    "    pre_physical_values = rdb[key]['pre_physical']\n",
    "    for val in pre_physical_values:\n",
    "        pre_physical =  (val==\"none of the above\" )\n",
    "\n",
    "    rdict['age'].append(rdb[key]['age'])\n",
    "    rdict['gender'].append(rdb[key]['gender'])        \n",
    "    rdict['qids'].append(list(rdb[key]['QIDS'].values())[-1])\n",
    "    rdict['mood'].append(rdb[key]['A'][-1]['mood'])\n",
    " #   rdict['camsr'].append(rdb[key]['camsr'])\n",
    " #   rdict['neuroticism'].append(rdb[key]['ipip'][4])\n",
    "    rdict['pre_physical'].append(1*(pre_physical))\n",
    "    rdict['pre_mental'].append(1*(pre_mental))\n",
    "\n",
    "rpd = pd.DataFrame.from_dict(rdict)\n"
   ]
  },
  {
   "cell_type": "code",
   "execution_count": 33,
   "metadata": {},
   "outputs": [
    {
     "name": "stdout",
     "output_type": "stream",
     "text": [
      "Number of Subjects: 740 \n",
      "\n",
      "Qids < 10 \n",
      "spearman test: (461 Subjects) Coefficient: -0.278 P_Value: 0.00000 \n",
      "\n",
      "10 <= Qids < 20 \n",
      "spearman test: (256 Subjects) Coefficient: -0.196 P_Value: 0.00161 \n",
      "\n",
      "Qids >= 10\n",
      "spearman test: (279 Subjects) Coefficient: -0.237 P_Value: 0.00007\n"
     ]
    }
   ],
   "source": [
    "print('Number of Subjects: %d \\n' %len(rpd['qids']))\n",
    "\n",
    "print('Qids < 10 ')\n",
    "LowQids = rpd['qids'] < 10\n",
    "_, p = spearmanr(rpd['qids'][LowQids],rpd['mood'][LowQids])\n",
    "print('spearman test: (%d Subjects) Coefficient: %.3f P_Value: %.5f \\n'% (len(rpd['qids'][LowQids]),_, p))\n",
    "\n",
    "\n",
    "print('10 <= Qids < 20 ')\n",
    "HighQids = (rpd['qids'] >= 10) & (rpd['qids'] < 20)\n",
    "_, p = spearmanr(rpd['qids'][HighQids],rpd['mood'][HighQids])\n",
    "print('spearman test: (%d Subjects) Coefficient: %.3f P_Value: %.5f \\n'% (len(rpd['qids'][HighQids]),_, p))\n",
    "\n",
    "\n",
    "print('Qids >= 10')\n",
    "HighQids = (rpd['qids'] >= 10)\n",
    "_, p = spearmanr(rpd['qids'][HighQids],rpd['mood'][HighQids])\n",
    "print('spearman test: (%d Subjects) Coefficient: %.3f P_Value: %.5f'% (len(rpd['qids'][HighQids]),_, p))\n"
   ]
  },
  {
   "cell_type": "code",
   "execution_count": null,
   "metadata": {},
   "outputs": [],
   "source": []
  }
 ],
 "metadata": {
  "kernelspec": {
   "display_name": "Python 3",
   "language": "python",
   "name": "python3"
  },
  "language_info": {
   "codemirror_mode": {
    "name": "ipython",
    "version": 3
   },
   "file_extension": ".py",
   "mimetype": "text/x-python",
   "name": "python",
   "nbconvert_exporter": "python",
   "pygments_lexer": "ipython3",
   "version": "3.7.3"
  }
 },
 "nbformat": 4,
 "nbformat_minor": 2
}
